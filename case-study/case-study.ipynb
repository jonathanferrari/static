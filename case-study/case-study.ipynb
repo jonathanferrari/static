{
 "cells": [
  {
   "cell_type": "code",
   "execution_count": 1,
   "metadata": {},
   "outputs": [],
   "source": [
    "import pandas as pd, numpy as np, plotly.express as px\n",
    "col_names = {\n",
    "    \"experience\" : [\"jonathan\", \"gender\", \"major\", \"year\", \n",
    "                    \"stat_experience\", \"stat_course\", \"stat_confidence\", \n",
    "                    \"cs_experience\", \"cs_course\", \"cs_confidence\",\n",
    "                    \"scaffolding_helpful\", \"learn_modes\", \"demonstrate_modes\", \"mode_preference\", \n",
    "                    \"bank_learn\", \"bank_like\",\n",
    "                    \"pose_learn\", \"pose_like\"],\n",
    "    \"feedback\" : [\"enjoy_lab\", \"lecture_help\", \"present_mode\", \"discussion_helpful\"],\n",
    "    \"welcome\" : [\"gender\", \"year\", \"major\", \"math_experience\", \"first_coding\", \"first_stats\", \"code_comfortable\", \"prepared\", \"succeed\", \"section_mode\"]\n",
    "}\n",
    "\n",
    "readable_names = {\n",
    "    \"experience\" : {\n",
    "        \"jonathan\" : \"My GSI is Jonathan\",\n",
    "        \"gender\" : \"Gender\",\n",
    "        \"major\" : \"Major\",\n",
    "        \"year\" : \"Year\",\n",
    "        \"stat_experience\" : \"I have previous Statistics Experience\",\n",
    "        \"stat_course\" : \"Previous Stats Courses taken\",\n",
    "        \"stat_confidence\" : \"Confidence in Stats\",\n",
    "        \"cs_experience\" : \"I have previous Computer Science Experience\",\n",
    "        \"cs_course\" : \"Previous CS Courses taken\",\n",
    "        \"cs_confidence\" : \"Confidence in CS\",\n",
    "        \"scaffolding_helpful\" : \"Scaffolding is Helpful\",\n",
    "        \"learn_modes\" : \"I learn best by\",\n",
    "        \"demonstrate_modes\" : \"I prefer to demonstrate my knowledge by\",\n",
    "        \"mode_preference\" : \"I prefer multiple modes of presentation\",\n",
    "        \"bank_learn\" : \"I learn from Banking Education\",\n",
    "        \"bank_like\" : \"I like Banking Education\",\n",
    "        \"pose_learn\" : \"I learn from Problem Posing Education\",\n",
    "        \"pose_like\" : \"I like Problem Posing Education\"\n",
    "    },\n",
    "    \"feedback\" : {\n",
    "        \"enjoy_lab\" : \"I enjoy the labs\",\n",
    "        \"lecture_help\" : \"Lectures help me learn\",\n",
    "        \"present_mode\" : \"I prefer this mode of presentation\",\n",
    "        \"discussion_helpful\" : \"Discussions are helpful\"\n",
    "    },\n",
    "    \"welcome\" : {\n",
    "        \"gender\" : \"Gender\",\n",
    "        \"year\" : \"Year\",\n",
    "        \"major\" : \"Major\",\n",
    "        \"math_experience\" : \"Math Experience\",\n",
    "        \"first_coding\" : \"First Coding\",\n",
    "        \"first_stats\" : \"First Stats\",\n",
    "        \"code_comfortable\" : \"Comfortable with Coding\",\n",
    "        \"prepared\" : \"Background Prepared me for Data 8\",\n",
    "        \"succeed\" : \"I will Succeed in Data 8\",\n",
    "        \"section_mode\" : \"Prefered Section Mode\"\n",
    "    }\n",
    "}\n",
    "\n",
    "titles = {\n",
    "    \"experience\" : \"Data 8 Experience Survey\",\n",
    "    \"feedback\" : \"Feedback Survey\",\n",
    "    \"welcome\" : \"Welcome Survey\"\n",
    "}\n",
    "\n",
    "def load_sheet():\n",
    "    sheets = pd.read_excel(\"https://docs.google.com/spreadsheets/d/e/2PACX-1vTaoSrGe7BpMFvXFQnn02_HUt7t3pTWAAl1ny_A4zNkszerHWZHReQ0YkDK58qJ8_G83ih9IVqmm0IO/pub?output=xlsx\", sheet_name = None)\n",
    "    experience = sheets[\"Experience\"].iloc[:, np.arange(1, 19)]\n",
    "    feedback = sheets[\"Feedback\"]\n",
    "    welcome = sheets[\"Welcome\"]\n",
    "    experience.columns = col_names[\"experience\"]\n",
    "    feedback.columns = col_names[\"feedback\"]\n",
    "    welcome.columns = col_names[\"welcome\"]\n",
    "    data = {\"experience\" : experience, \"feedback\" : feedback, \"welcome\" : welcome}\n",
    "    return data\n",
    "data = load_sheet()\n"
   ]
  },
  {
   "cell_type": "code",
   "execution_count": 58,
   "metadata": {},
   "outputs": [],
   "source": [
    "rename_map = {\"stat_experience\" : \"Stats Experience\", \"cs_experience\" : \"CS Experience\", \n",
    "                      \"stat_confidence\" : \"Stats Confidence\", \"cs_confidence\" : \"CS Confidence\",\n",
    "                        \"scaffolding_helpful\" : \"Scaffolding Helpful\", \"mode_preference\" : \"Multimodality Preference\",\n",
    "                        \"bank_learn\" : \"Banking Education Value\", \"bank_like\" : \"Banking Education Enjoyment\",\n",
    "                        \"pose_learn\" : \"Problem Posing Education Value\", \"pose_like\" : \"Problem Posing Education Enjoyment\"\n",
    "                      }\n",
    "df = data[\"experience\"]\n",
    "df = df[[\"stat_experience\", \"stat_confidence\", \"cs_experience\", \"cs_confidence\", \"bank_learn\", \"bank_like\", \"pose_learn\", \"pose_like\", \"scaffolding_helpful\", \"mode_preference\"]]\n",
    "stat = df.groupby(\"stat_experience\").mean(numeric_only = True).reset_index()\n",
    "cs = df.groupby(\"cs_experience\").mean(numeric_only = True).reset_index()\n",
    "exp = df.groupby([\"stat_experience\", \"cs_experience\"]).mean(numeric_only = True).reset_index().rename(columns = rename_map).iloc[:, list(range(8))]\n",
    "exp\n",
    "means = pd.DataFrame(df.mean(numeric_only = True), columns=[\"Mean\"]).iloc[list(range(6)), :].rename(index = rename_map)"
   ]
  },
  {
   "cell_type": "code",
   "execution_count": 64,
   "metadata": {},
   "outputs": [
    {
     "name": "stdout",
     "output_type": "stream",
     "text": [
      "|| Stats Experience | CS Experience | Stats Confidence | CS Confidence | Banking Education Value | Banking Education Enjoyment | Problem Posing Education Value | Problem Posing Education Enjoyment |\n",
      "|:|:-|:-|-:|-:|--:|:|:|-:|\n",
      "|0 | No | No|2.8 | 2.6 | 4.1 | 3.1 |5.1 |5.7 |\n",
      "|1 | No | Yes |3 | 5.8 | 4 | 4.2 |5.4 |6.4 |\n",
      "|2 | Yes| No|3.92308 | 2.38462 | 4 | 3.38462 |5 |4.46154 |\n",
      "|3 | Yes| Yes |4 | 4.71429 | 4.71429 | 2.85714 |4.57143 |4.85714 |\n"
     ]
    }
   ],
   "source": [
    "print(exp.to_markdown().replace(\"  \", \"\").replace(\"---\", \"\"))"
   ]
  },
  {
   "cell_type": "code",
   "execution_count": null,
   "metadata": {},
   "outputs": [],
   "source": []
  }
 ],
 "metadata": {
  "kernelspec": {
   "display_name": "Python 3",
   "language": "python",
   "name": "python3"
  },
  "language_info": {
   "codemirror_mode": {
    "name": "ipython",
    "version": 3
   },
   "file_extension": ".py",
   "mimetype": "text/x-python",
   "name": "python",
   "nbconvert_exporter": "python",
   "pygments_lexer": "ipython3",
   "version": "3.11.2"
  },
  "orig_nbformat": 4
 },
 "nbformat": 4,
 "nbformat_minor": 2
}
