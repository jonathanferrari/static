{
 "cells": [
  {
   "cell_type": "code",
   "execution_count": 1,
   "metadata": {},
   "outputs": [],
   "source": [
    "import pandas as pd, numpy as np, plotly.express as px\n",
    "col_names = {\n",
    "    \"experience\" : [\"jonathan\", \"gender\", \"major\", \"year\", \n",
    "                    \"stat_experience\", \"stat_course\", \"stat_confidence\", \n",
    "                    \"cs_experience\", \"cs_course\", \"cs_confidence\",\n",
    "                    \"scaffolding_helpful\", \"learn_modes\", \"demonstrate_modes\", \"mode_preference\", \n",
    "                    \"bank_learn\", \"bank_like\",\n",
    "                    \"pose_learn\", \"pose_like\"],\n",
    "    \"feedback\" : [\"enjoy_lab\", \"lecture_help\", \"present_mode\", \"discussion_helpful\"],\n",
    "    \"welcome\" : [\"gender\", \"year\", \"major\", \"math_experience\", \"first_coding\", \"first_stats\", \"code_comfortable\", \"prepared\", \"succeed\", \"section_mode\"]\n",
    "}\n",
    "\n",
    "readable_names = {\n",
    "    \"experience\" : {\n",
    "        \"jonathan\" : \"My GSI is Jonathan\",\n",
    "        \"gender\" : \"Gender\",\n",
    "        \"major\" : \"Major\",\n",
    "        \"year\" : \"Year\",\n",
    "        \"stat_experience\" : \"I have previous Statistics Experience\",\n",
    "        \"stat_course\" : \"Previous Stats Courses taken\",\n",
    "        \"stat_confidence\" : \"Confidence in Stats\",\n",
    "        \"cs_experience\" : \"I have previous Computer Science Experience\",\n",
    "        \"cs_course\" : \"Previous CS Courses taken\",\n",
    "        \"cs_confidence\" : \"Confidence in CS\",\n",
    "        \"scaffolding_helpful\" : \"Scaffolding is Helpful\",\n",
    "        \"learn_modes\" : \"I learn best by\",\n",
    "        \"demonstrate_modes\" : \"I prefer to demonstrate my knowledge by\",\n",
    "        \"mode_preference\" : \"I prefer multiple modes of presentation\",\n",
    "        \"bank_learn\" : \"I learn from Banking Education\",\n",
    "        \"bank_like\" : \"I like Banking Education\",\n",
    "        \"pose_learn\" : \"I learn from Problem Posing Education\",\n",
    "        \"pose_like\" : \"I like Problem Posing Education\"\n",
    "    },\n",
    "    \"feedback\" : {\n",
    "        \"enjoy_lab\" : \"I enjoy the labs\",\n",
    "        \"lecture_help\" : \"Lectures help me learn\",\n",
    "        \"present_mode\" : \"I prefer this mode of presentation\",\n",
    "        \"discussion_helpful\" : \"Discussions are helpful\"\n",
    "    },\n",
    "    \"welcome\" : {\n",
    "        \"gender\" : \"Gender\",\n",
    "        \"year\" : \"Year\",\n",
    "        \"major\" : \"Major\",\n",
    "        \"math_experience\" : \"Math Experience\",\n",
    "        \"first_coding\" : \"First Coding\",\n",
    "        \"first_stats\" : \"First Stats\",\n",
    "        \"code_comfortable\" : \"Comfortable with Coding\",\n",
    "        \"prepared\" : \"Background Prepared me for Data 8\",\n",
    "        \"succeed\" : \"I will Succeed in Data 8\",\n",
    "        \"section_mode\" : \"Prefered Section Mode\"\n",
    "    }\n",
    "}\n",
    "\n",
    "titles = {\n",
    "    \"experience\" : \"Data 8 Experience Survey\",\n",
    "    \"feedback\" : \"Feedback Survey\",\n",
    "    \"welcome\" : \"Welcome Survey\"\n",
    "}\n",
    "\n",
    "def load_sheet():\n",
    "    sheets = pd.read_excel(\"https://docs.google.com/spreadsheets/d/e/2PACX-1vTaoSrGe7BpMFvXFQnn02_HUt7t3pTWAAl1ny_A4zNkszerHWZHReQ0YkDK58qJ8_G83ih9IVqmm0IO/pub?output=xlsx\", sheet_name = None)\n",
    "    experience = sheets[\"Experience\"].iloc[:, np.arange(1, 19)]\n",
    "    feedback = sheets[\"Feedback\"]\n",
    "    welcome = sheets[\"Welcome\"]\n",
    "    experience.columns = col_names[\"experience\"]\n",
    "    feedback.columns = col_names[\"feedback\"]\n",
    "    welcome.columns = col_names[\"welcome\"]\n",
    "    data = {\"experience\" : experience, \"feedback\" : feedback, \"welcome\" : welcome}\n",
    "    return data\n",
    "data = load_sheet()\n"
   ]
  },
  {
   "cell_type": "code",
   "execution_count": 10,
   "metadata": {},
   "outputs": [
    {
     "data": {
      "text/html": [
       "<div>\n",
       "<style scoped>\n",
       "    .dataframe tbody tr th:only-of-type {\n",
       "        vertical-align: middle;\n",
       "    }\n",
       "\n",
       "    .dataframe tbody tr th {\n",
       "        vertical-align: top;\n",
       "    }\n",
       "\n",
       "    .dataframe thead th {\n",
       "        text-align: right;\n",
       "    }\n",
       "</style>\n",
       "<table border=\"1\" class=\"dataframe\">\n",
       "  <thead>\n",
       "    <tr style=\"text-align: right;\">\n",
       "      <th></th>\n",
       "      <th>Mean</th>\n",
       "    </tr>\n",
       "  </thead>\n",
       "  <tbody>\n",
       "    <tr>\n",
       "      <th>Stats Confidence</th>\n",
       "      <td>3.485714</td>\n",
       "    </tr>\n",
       "    <tr>\n",
       "      <th>CS Confidence</th>\n",
       "      <td>3.400000</td>\n",
       "    </tr>\n",
       "    <tr>\n",
       "      <th>Banking Education Value</th>\n",
       "      <td>4.171429</td>\n",
       "    </tr>\n",
       "    <tr>\n",
       "      <th>Banking Education Enjoyment</th>\n",
       "      <td>3.314286</td>\n",
       "    </tr>\n",
       "    <tr>\n",
       "      <th>Problem Posing Education Value</th>\n",
       "      <td>5.000000</td>\n",
       "    </tr>\n",
       "    <tr>\n",
       "      <th>Problem Posing Education Enjoyment</th>\n",
       "      <td>5.171429</td>\n",
       "    </tr>\n",
       "  </tbody>\n",
       "</table>\n",
       "</div>"
      ],
      "text/plain": [
       "                                        Mean\n",
       "Stats Confidence                    3.485714\n",
       "CS Confidence                       3.400000\n",
       "Banking Education Value             4.171429\n",
       "Banking Education Enjoyment         3.314286\n",
       "Problem Posing Education Value      5.000000\n",
       "Problem Posing Education Enjoyment  5.171429"
      ]
     },
     "execution_count": 10,
     "metadata": {},
     "output_type": "execute_result"
    }
   ],
   "source": [
    "rename_map = {\"stat_experience\" : \"Stats Experience\", \"cs_experience\" : \"CS Experience\", \n",
    "                      \"stat_confidence\" : \"Stats Confidence\", \"cs_confidence\" : \"CS Confidence\",\n",
    "                        \"scaffolding_helpful\" : \"Scaffolding Helpful\", \"mode_preference\" : \"Multimodality Preference\",\n",
    "                        \"bank_learn\" : \"Banking Education Value\", \"bank_like\" : \"Banking Education Enjoyment\",\n",
    "                        \"pose_learn\" : \"Problem Posing Education Value\", \"pose_like\" : \"Problem Posing Education Enjoyment\"\n",
    "                      }\n",
    "df = data[\"experience\"]\n",
    "df = df[[\"stat_experience\", \"stat_confidence\", \"cs_experience\", \"cs_confidence\", \"bank_learn\", \"bank_like\", \"pose_learn\", \"pose_like\", \"scaffolding_helpful\", \"mode_preference\"]]\n",
    "stat = df.groupby(\"stat_experience\").mean(numeric_only = True).reset_index()\n",
    "cs = df.groupby(\"cs_experience\").mean(numeric_only = True).reset_index()\n",
    "exp = df.groupby([\"stat_experience\", \"cs_experience\"]).mean(numeric_only = True).reset_index().rename(columns = rename_map).iloc[:, list(range(8))]\n",
    "means = pd.DataFrame(df.mean(numeric_only = True), columns=[\"Mean\"]).iloc[list(range(6)), :].rename(index = rename_map)\n",
    "means"
   ]
  },
  {
   "cell_type": "code",
   "execution_count": 9,
   "metadata": {},
   "outputs": [
    {
     "data": {
      "text/plain": [
       "'<table border=\"1\" class=\"dataframe\">\\n  <thead>\\n    <tr style=\"text-align: right;\">\\n      <th></th>\\n      <th>Stats Experience</th>\\n      <th>CS Experience</th>\\n      <th>Stats Confidence</th>\\n      <th>CS Confidence</th>\\n      <th>Banking Education Value</th>\\n      <th>Banking Education Enjoyment</th>\\n      <th>Problem Posing Education Value</th>\\n      <th>Problem Posing Education Enjoyment</th>\\n    </tr>\\n  </thead>\\n  <tbody>\\n    <tr>\\n      <th>0</th>\\n      <td>No</td>\\n      <td>No</td>\\n      <td>2.800000</td>\\n      <td>2.600000</td>\\n      <td>4.100000</td>\\n      <td>3.100000</td>\\n      <td>5.100000</td>\\n      <td>5.700000</td>\\n    </tr>\\n    <tr>\\n      <th>1</th>\\n      <td>No</td>\\n      <td>Yes</td>\\n      <td>3.000000</td>\\n      <td>5.800000</td>\\n      <td>4.000000</td>\\n      <td>4.200000</td>\\n      <td>5.400000</td>\\n      <td>6.400000</td>\\n    </tr>\\n    <tr>\\n      <th>2</th>\\n      <td>Yes</td>\\n      <td>No</td>\\n      <td>3.923077</td>\\n      <td>2.384615</td>\\n      <td>4.000000</td>\\n      <td>3.384615</td>\\n      <td>5.000000</td>\\n      <td>4.461538</td>\\n    </tr>\\n    <tr>\\n      <th>3</th>\\n      <td>Yes</td>\\n      <td>Yes</td>\\n      <td>4.000000</td>\\n      <td>4.714286</td>\\n      <td>4.714286</td>\\n      <td>2.857143</td>\\n      <td>4.571429</td>\\n      <td>4.857143</td>\\n    </tr>\\n  </tbody>\\n</table>'"
      ]
     },
     "execution_count": 9,
     "metadata": {},
     "output_type": "execute_result"
    }
   ],
   "source": [
    "exp.to_html()"
   ]
  },
  {
   "cell_type": "code",
   "execution_count": null,
   "metadata": {},
   "outputs": [],
   "source": []
  }
 ],
 "metadata": {
  "kernelspec": {
   "display_name": "Python 3",
   "language": "python",
   "name": "python3"
  },
  "language_info": {
   "codemirror_mode": {
    "name": "ipython",
    "version": 3
   },
   "file_extension": ".py",
   "mimetype": "text/x-python",
   "name": "python",
   "nbconvert_exporter": "python",
   "pygments_lexer": "ipython3",
   "version": "3.11.2"
  },
  "orig_nbformat": 4
 },
 "nbformat": 4,
 "nbformat_minor": 2
}
